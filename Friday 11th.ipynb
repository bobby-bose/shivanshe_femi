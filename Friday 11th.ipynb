{
  "nbformat": 4,
  "nbformat_minor": 0,
  "metadata": {
    "colab": {
      "name": "Untitled11.ipynb",
      "provenance": [],
      "authorship_tag": "ABX9TyPnsiEnlxwfaFCRe2HbQ7pN",
      "include_colab_link": true
    },
    "kernelspec": {
      "name": "python3",
      "display_name": "Python 3"
    },
    "language_info": {
      "name": "python"
    }
  },
  "cells": [
    {
      "cell_type": "markdown",
      "metadata": {
        "id": "view-in-github",
        "colab_type": "text"
      },
      "source": [
        "<a href=\"https://colab.research.google.com/github/bobbykbose37/shivanshe_femi/blob/main/Friday%2011th.ipynb\" target=\"_parent\"><img src=\"https://colab.research.google.com/assets/colab-badge.svg\" alt=\"Open In Colab\"/></a>"
      ]
    },
    {
      "cell_type": "code",
      "execution_count": 5,
      "metadata": {
        "colab": {
          "base_uri": "https://localhost:8080/"
        },
        "id": "HlcH2uCpBq1F",
        "outputId": "c4f907c1-df47-4e85-c33e-4a6bb8f61971"
      },
      "outputs": [
        {
          "output_type": "stream",
          "name": "stdout",
          "text": [
            "First array:\n",
            "[[0. 1. 2.]\n",
            " [3. 4. 5.]\n",
            " [6. 7. 8.]]\n",
            "\n",
            "\n",
            "Second array:\n",
            "[10 10 10]\n",
            "\n",
            "\n",
            "Add the two arrays:\n",
            "[[10. 11. 12.]\n",
            " [13. 14. 15.]\n",
            " [16. 17. 18.]]\n",
            "\n",
            "\n",
            "Subtract the two arrays:\n",
            "[[-10.  -9.  -8.]\n",
            " [ -7.  -6.  -5.]\n",
            " [ -4.  -3.  -2.]]\n",
            "\n",
            "\n",
            "Multiply the two arrays:\n",
            "[[ 0. 10. 20.]\n",
            " [30. 40. 50.]\n",
            " [60. 70. 80.]]\n",
            "\n",
            "\n",
            "Divide the two arrays:\n",
            "[[0.  0.1 0.2]\n",
            " [0.3 0.4 0.5]\n",
            " [0.6 0.7 0.8]]\n"
          ]
        }
      ],
      "source": [
        "import numpy as np \n",
        "a = np.arange(9, dtype = np.float_).reshape(3,3) \n",
        "\n",
        "print('First array:') \n",
        "print (a) \n",
        "print ('\\n')  \n",
        "\n",
        "print ('Second array:') \n",
        "b = np.array([10,10,10])\n",
        "print (b) \n",
        "print ('\\n')  \n",
        "\n",
        "print ('Add the two arrays:') \n",
        "print (np.add(a,b)) \n",
        "print ('\\n')  \n",
        "\n",
        "print ('Subtract the two arrays:') \n",
        "print (np.subtract(a,b)) \n",
        "print ('\\n')  \n",
        "\n",
        "print ('Multiply the two arrays:') \n",
        "print (np.multiply(a,b)) \n",
        "print ('\\n')  \n",
        "\n",
        "print ('Divide the two arrays:') \n",
        "print (np.divide(a,b))"
      ]
    },
    {
      "cell_type": "code",
      "source": [
        "a = np.array([[3,7],[9,1]]) \n",
        "\n",
        "print ('Our array is:') \n",
        "print (a) \n",
        "print ('\\n')\n",
        "\n",
        "print ('Applying sort() function:') \n",
        "print (np.sort(a)) \n",
        "print ('\\n') \n",
        "  \n",
        "print ('Sort along axis 0:') \n",
        "print (np.sort(a, axis = 0)) \n",
        "print ('\\n')  \n",
        "\n",
        "# Order parameter in sort function \n",
        "dt = np.dtype([('name', 'S10'),('age', int)]) \n",
        "a = np.array([(\"raju\",21),(\"anil\",25),(\"ravi\", 17), (\"amar\",27)], dtype = dt)\n",
        "\n",
        "print ('Our array is:') \n",
        "print (a) \n",
        "print ('\\n')  \n",
        "\n",
        "print ('Order by name:') \n",
        "print (np.sort(a, order = 'age'))"
      ],
      "metadata": {
        "colab": {
          "base_uri": "https://localhost:8080/"
        },
        "id": "FzTea8C2F4wq",
        "outputId": "32d94fd7-a6d0-4f6b-e5ee-9a2c65a9ae4d"
      },
      "execution_count": 9,
      "outputs": [
        {
          "output_type": "stream",
          "name": "stdout",
          "text": [
            "Our array is:\n",
            "[[3 7]\n",
            " [9 1]]\n",
            "\n",
            "\n",
            "Applying sort() function:\n",
            "[[3 7]\n",
            " [1 9]]\n",
            "\n",
            "\n",
            "Sort along axis 0:\n",
            "[[3 1]\n",
            " [9 7]]\n",
            "\n",
            "\n",
            "Our array is:\n",
            "[(b'raju', 21) (b'anil', 25) (b'ravi', 17) (b'amar', 27)]\n",
            "\n",
            "\n",
            "Order by name:\n",
            "[(b'ravi', 17) (b'raju', 21) (b'anil', 25) (b'amar', 27)]\n"
          ]
        }
      ]
    },
    {
      "cell_type": "code",
      "source": [
        ""
      ],
      "metadata": {
        "id": "oRGg2cZcI3Kr"
      },
      "execution_count": null,
      "outputs": []
    },
    {
      "cell_type": "code",
      "source": [
        "a = np.array([10,100,1000]) \n",
        "\n",
        "print('Our array is:') \n",
        "print (a) \n",
        "print ('\\n')  \n",
        "\n",
        "print ('Applying power function:') \n",
        "print (np.power(a,2)) \n",
        "print ('\\n')  \n",
        "\n",
        "print ('Second array:') \n",
        "b = np.array([1,2,3]) \n",
        "print (b) \n",
        "print ('\\n')  \n",
        "\n",
        "print ('Applying power function again:') \n",
        "print (np.power(a,b))"
      ],
      "metadata": {
        "colab": {
          "base_uri": "https://localhost:8080/"
        },
        "id": "I4oorTVYCrLD",
        "outputId": "b6199035-ffa0-41b7-e592-7551d33e8725"
      },
      "execution_count": 7,
      "outputs": [
        {
          "output_type": "stream",
          "name": "stdout",
          "text": [
            "Our array is:\n",
            "[  10  100 1000]\n",
            "\n",
            "\n",
            "Applying power function:\n",
            "[    100   10000 1000000]\n",
            "\n",
            "\n",
            "Second array:\n",
            "[1 2 3]\n",
            "\n",
            "\n",
            "Applying power function again:\n",
            "[        10      10000 1000000000]\n"
          ]
        }
      ]
    },
    {
      "cell_type": "code",
      "source": [
        "import numpy.matlib \n"
      ],
      "metadata": {
        "id": "HPAc06cYI4Ld"
      },
      "execution_count": 10,
      "outputs": []
    },
    {
      "cell_type": "code",
      "source": [
        "print(np.matlib.empty((2,2)))\n",
        "print(np.matlib.empty((3,3)))\n",
        "print(np.matlib.empty((4,4)))\n",
        "print(np.matlib.empty((6,6)))\n",
        "print(np.matlib.empty((9,9)))\n"
      ],
      "metadata": {
        "colab": {
          "base_uri": "https://localhost:8080/"
        },
        "id": "32qv9Qj3JbN8",
        "outputId": "b8998ac6-cdce-4023-acc0-315345e842b5"
      },
      "execution_count": 20,
      "outputs": [
        {
          "output_type": "stream",
          "name": "stdout",
          "text": [
            "[[1.5e-323 3.5e-323]\n",
            " [4.4e-323 4.9e-324]]\n",
            "[[9.73262897e-315 6.79960809e-318 5.88926641e-310]\n",
            " [5.30498948e-313 1.07070480e+200 2.36414097e-308]\n",
            " [7.50128708e+218 1.44667362e-319 1.33397724e-322]]\n",
            "[[4.65521746e-310 1.06099790e-312 1.01855798e-312 9.54898106e-313]\n",
            " [1.03977794e-312 1.03977794e-312 1.23075756e-312 1.18831764e-312]\n",
            " [1.08221785e-312 9.76118064e-313 1.12465777e-312 1.14587773e-312]\n",
            " [1.16709769e-312 4.44659081e-322 0.00000000e+000 0.00000000e+000]]\n",
            "[[4.6552167e-310 0.0000000e+000 0.0000000e+000 0.0000000e+000\n",
            "  0.0000000e+000 0.0000000e+000]\n",
            " [0.0000000e+000 0.0000000e+000 0.0000000e+000 0.0000000e+000\n",
            "  0.0000000e+000 0.0000000e+000]\n",
            " [0.0000000e+000 0.0000000e+000 0.0000000e+000 0.0000000e+000\n",
            "  0.0000000e+000 0.0000000e+000]\n",
            " [0.0000000e+000 0.0000000e+000 0.0000000e+000 0.0000000e+000\n",
            "  0.0000000e+000 0.0000000e+000]\n",
            " [0.0000000e+000 0.0000000e+000 0.0000000e+000 0.0000000e+000\n",
            "  0.0000000e+000 0.0000000e+000]\n",
            " [0.0000000e+000 0.0000000e+000 0.0000000e+000 0.0000000e+000\n",
            "  0.0000000e+000 0.0000000e+000]]\n",
            "[[0.00000000e+000 6.90251023e-310             nan 6.90242791e-310\n",
            "  0.00000000e+000 4.65521479e-310 1.63041663e-322 4.65521810e-310\n",
            "  6.90253616e-310]\n",
            " [6.90254159e-310 6.90253616e-310 0.00000000e+000 4.65521805e-310\n",
            "  0.00000000e+000 0.00000000e+000 4.94065646e-324 0.00000000e+000\n",
            "  5.98402813e-312]\n",
            " [6.89903272e-310 3.09811386e-312 6.57818695e-313 4.94065646e-324\n",
            "  6.90251023e-310 0.00000000e+000 6.90251023e-310 0.00000000e+000\n",
            "  6.57818695e-313]\n",
            " [2.08327582e-214 6.90251023e-310 4.65521700e-310 6.90251023e-310\n",
            "  0.00000000e+000 6.57818695e-313 4.94065646e-324 6.90251023e-310\n",
            "  0.00000000e+000]\n",
            " [6.90251023e-310 0.00000000e+000 6.57818695e-313 4.94065646e-324\n",
            "  6.90251023e-310 0.00000000e+000 6.90251023e-310 0.00000000e+000\n",
            "  6.57818695e-313]\n",
            " [4.94065646e-324 6.90251023e-310 0.00000000e+000 6.90251023e-310\n",
            "  0.00000000e+000 0.00000000e+000 0.00000000e+000 4.65521480e-310\n",
            "  6.90251894e-310]\n",
            " [6.90251893e-310 6.90251021e-310 4.65521480e-310 6.90251368e-310\n",
            "  6.90251368e-310 0.00000000e+000 0.00000000e+000 0.00000000e+000\n",
            "  0.00000000e+000]\n",
            " [0.00000000e+000 0.00000000e+000 0.00000000e+000 0.00000000e+000\n",
            "  0.00000000e+000 0.00000000e+000 0.00000000e+000 0.00000000e+000\n",
            "  0.00000000e+000]\n",
            " [0.00000000e+000 0.00000000e+000 6.90251023e-310 6.90254153e-310\n",
            "  6.90251629e-310 4.65521480e-310 4.65521483e-310 6.90251024e-310\n",
            "  4.65521479e-310]]\n"
          ]
        }
      ]
    }
  ]
}