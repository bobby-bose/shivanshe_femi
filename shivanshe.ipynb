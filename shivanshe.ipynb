{
  "nbformat": 4,
  "nbformat_minor": 0,
  "metadata": {
    "colab": {
      "name": "shivanshe.ipynb",
      "provenance": [],
      "authorship_tag": "ABX9TyNa6y/2Be1fhcWjbhBiBjlL",
      "include_colab_link": true
    },
    "kernelspec": {
      "name": "python3",
      "display_name": "Python 3"
    },
    "language_info": {
      "name": "python"
    }
  },
  "cells": [
    {
      "cell_type": "markdown",
      "metadata": {
        "id": "view-in-github",
        "colab_type": "text"
      },
      "source": [
        "<a href=\"https://colab.research.google.com/github/bobbykbose37/shivanshe_femi/blob/main/shivanshe.ipynb\" target=\"_parent\"><img src=\"https://colab.research.google.com/assets/colab-badge.svg\" alt=\"Open In Colab\"/></a>"
      ]
    },
    {
      "cell_type": "code",
      "execution_count": 5,
      "metadata": {
        "colab": {
          "base_uri": "https://localhost:8080/"
        },
        "id": "seOx1cm712KL",
        "outputId": "e7e93c60-667c-4691-d219-00065a0df4b0"
      },
      "outputs": [
        {
          "output_type": "stream",
          "name": "stdout",
          "text": [
            "[1]\n"
          ]
        }
      ],
      "source": [
        "import numpy as np \n",
        "\n",
        "x = np.array([[1, 2], [3, 4], [5, 6]]) \n",
        "y = x[[0],[0]] \n",
        "print(y)"
      ]
    },
    {
      "cell_type": "code",
      "source": [
        "x = np.array([[ 0,  1,  2],[ 3,  4,  5],[ 6,  7,  8],[ 9, 10, 11]]) \n",
        "print('Our array is:') \n",
        "print(x) \n",
        "print('\\n')   \n",
        "print('The items greater than 5 are:') \n",
        "print(x[x > 5])"
      ],
      "metadata": {
        "id": "TpcCNopI43eY",
        "outputId": "1d26b8a4-b83d-4db6-9747-7d6d746a5666",
        "colab": {
          "base_uri": "https://localhost:8080/"
        }
      },
      "execution_count": 7,
      "outputs": [
        {
          "output_type": "stream",
          "name": "stdout",
          "text": [
            "Our array is:\n",
            "[[ 0  1  2]\n",
            " [ 3  4  5]\n",
            " [ 6  7  8]\n",
            " [ 9 10 11]]\n",
            "\n",
            "\n",
            "The items greater than 5 are:\n",
            "[ 6  7  8  9 10 11]\n"
          ]
        }
      ]
    },
    {
      "cell_type": "code",
      "source": [
        "a = np.arange(10) \n",
        "print(a)\n",
        "b = a[2:7:2] \n",
        "print(b)\n",
        "b=a[5]\n",
        "print(b)\n",
        "print(a[::-2])\n"
      ],
      "metadata": {
        "id": "vhFB1-ZN5nvq",
        "outputId": "33203598-592c-47ec-970c-30bfd9ef5dcf",
        "colab": {
          "base_uri": "https://localhost:8080/"
        }
      },
      "execution_count": 17,
      "outputs": [
        {
          "output_type": "stream",
          "name": "stdout",
          "text": [
            "[0 1 2 3 4 5 6 7 8 9]\n",
            "[2 4 6]\n",
            "5\n",
            "[9 7 5 3 1]\n"
          ]
        }
      ]
    },
    {
      "cell_type": "code",
      "source": [
        "a = np.array([[0.0,0.0,0.0],[10.0,10.0,10.0],[20.0,20.0,20.0],[30.0,30.0,30.0]]) \n",
        "b = np.array([1.0,2.0,3.0]) "
      ],
      "metadata": {
        "id": "iFFEGy_D8ztF"
      },
      "execution_count": null,
      "outputs": []
    },
    {
      "cell_type": "code",
      "source": [
        "a = np.array([1,2,3,4]) \n",
        "b = np.array([10,20,30,40]) \n",
        "c = a * b \n",
        "print(c)"
      ],
      "metadata": {
        "id": "xauUyN4w9EFc",
        "outputId": "11d889d1-13ba-4e7d-8d56-ab818f388124",
        "colab": {
          "base_uri": "https://localhost:8080/"
        }
      },
      "execution_count": 18,
      "outputs": [
        {
          "output_type": "stream",
          "name": "stdout",
          "text": [
            "[ 10  40  90 160]\n"
          ]
        }
      ]
    },
    {
      "cell_type": "code",
      "source": [
        "a = np.arange(0,60,5)\n",
        "a = a.reshape(3,4)\n",
        "\n",
        "print('Original array is:')\n",
        "print(a)\n",
        "print('\\n')\n",
        "\n",
        "print('Modified array is:')\n",
        "for x in np.nditer(a):\n",
        "   print(x)"
      ],
      "metadata": {
        "id": "dllWGhXr9w9T",
        "outputId": "67873468-5699-4923-a4ba-3087fe8e7439",
        "colab": {
          "base_uri": "https://localhost:8080/"
        }
      },
      "execution_count": 19,
      "outputs": [
        {
          "output_type": "stream",
          "name": "stdout",
          "text": [
            "Original array is:\n",
            "[[ 0  5 10 15]\n",
            " [20 25 30 35]\n",
            " [40 45 50 55]]\n",
            "\n",
            "\n",
            "Modified array is:\n",
            "0\n",
            "5\n",
            "10\n",
            "15\n",
            "20\n",
            "25\n",
            "30\n",
            "35\n",
            "40\n",
            "45\n",
            "50\n",
            "55\n"
          ]
        }
      ]
    }
  ]
}